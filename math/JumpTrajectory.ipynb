{
 "metadata": {
  "name": ""
 },
 "nbformat": 3,
 "nbformat_minor": 0,
 "worksheets": [
  {
   "cells": [
    {
     "cell_type": "code",
     "collapsed": false,
     "input": [
      "from sympy import *\n",
      "init_printing()"
     ],
     "language": "python",
     "metadata": {},
     "outputs": [],
     "prompt_number": 2
    },
    {
     "cell_type": "code",
     "collapsed": false,
     "input": [
      "var('x,y,t,v_x,v_y,a')"
     ],
     "language": "python",
     "metadata": {},
     "outputs": [
      {
       "latex": [
        "$$\\begin{pmatrix}x, & y, & t, & v_{x}, & v_{y}, & a\\end{pmatrix}$$"
       ],
       "metadata": {},
       "output_type": "pyout",
       "prompt_number": 8,
       "text": [
        "(x, y, t, v\u2093, v_y, a)"
       ]
      }
     ],
     "prompt_number": 8
    },
    {
     "cell_type": "code",
     "collapsed": false,
     "input": [
      "c1 = Equality(x, v_x*t)\n",
      "c2 = Equality(y , 0.5*a*t**2 + v_y*t)\n",
      "c1,c2"
     ],
     "language": "python",
     "metadata": {},
     "outputs": [
      {
       "latex": [
        "$$\\begin{pmatrix}x = t v_{x}, & y = 0.5 a t^{2} + t v_{y}\\end{pmatrix}$$"
       ],
       "metadata": {},
       "output_type": "pyout",
       "prompt_number": 29,
       "text": [
        "\u239b                     2        \u239e\n",
        "\u239dx = t\u22c5v\u2093, y = 0.5\u22c5a\u22c5t  + t\u22c5v_y\u23a0"
       ]
      }
     ],
     "prompt_number": 29
    },
    {
     "cell_type": "code",
     "collapsed": false,
     "input": [
      "v_x_s = solve(c1,v_x)[0]\n",
      "v_y_s = solve(c2,v_y)[0]\n",
      "v_x_s, v_y_s"
     ],
     "language": "python",
     "metadata": {},
     "outputs": [
      {
       "latex": [
        "$$\\begin{pmatrix}\\frac{x}{t}, & - 0.5 a t + \\frac{y}{t}\\end{pmatrix}$$"
       ],
       "metadata": {},
       "output_type": "pyout",
       "prompt_number": 27,
       "text": [
        "\u239bx             y\u239e\n",
        "\u239c\u2500, -0.5\u22c5a\u22c5t + \u2500\u239f\n",
        "\u239dt             t\u23a0"
       ]
      }
     ],
     "prompt_number": 27
    },
    {
     "cell_type": "code",
     "collapsed": false,
     "input": [
      "E = v_x_s**2 + v_y_s**2\n",
      "E"
     ],
     "language": "python",
     "metadata": {},
     "outputs": [
      {
       "latex": [
        "$$\\left(- 0.5 a t + \\frac{y}{t}\\right)^{2} + \\frac{x^{2}}{t^{2}}$$"
       ],
       "metadata": {},
       "output_type": "pyout",
       "prompt_number": 28,
       "text": [
        "              2    2\n",
        "\u239b           y\u239e    x \n",
        "\u239c-0.5\u22c5a\u22c5t + \u2500\u239f  + \u2500\u2500\n",
        "\u239d           t\u23a0     2\n",
        "                  t "
       ]
      }
     ],
     "prompt_number": 28
    },
    {
     "cell_type": "code",
     "collapsed": false,
     "input": [
      "solve(diff(E,t),t)"
     ],
     "language": "python",
     "metadata": {},
     "outputs": [
      {
       "latex": [
        "$$\\begin{bmatrix}- i \\sqrt[4]{\\frac{4.0 x^{2}}{a^{2}} + \\frac{4.0 y^{2}}{a^{2}}}, & i \\sqrt[4]{\\frac{4.0 x^{2}}{a^{2}} + \\frac{4.0 y^{2}}{a^{2}}}, & - \\sqrt[4]{\\frac{4.0 x^{2}}{a^{2}} + \\frac{4.0 y^{2}}{a^{2}}}, & \\sqrt[4]{\\frac{4.0 x^{2}}{a^{2}} + \\frac{4.0 y^{2}}{a^{2}}}\\end{bmatrix}$$"
       ],
       "metadata": {},
       "output_type": "pyout",
       "prompt_number": 26,
       "text": [
        "\u23a1         _________________          _________________         _______________\n",
        "\u23a2        \u2571      2        2          \u2571      2        2         \u2571      2        \n",
        "\u23a2       \u2571  4.0\u22c5x    4.0\u22c5y          \u2571  4.0\u22c5x    4.0\u22c5y         \u2571  4.0\u22c5x    4.0\u22c5y\n",
        "\u23a2-\u2148\u22c5   \u2571   \u2500\u2500\u2500\u2500\u2500\u2500 + \u2500\u2500\u2500\u2500\u2500\u2500 , \u2148\u22c5   \u2571   \u2500\u2500\u2500\u2500\u2500\u2500 + \u2500\u2500\u2500\u2500\u2500\u2500 , -   \u2571   \u2500\u2500\u2500\u2500\u2500\u2500 + \u2500\u2500\u2500\u2500\u2500\n",
        "\u23a2   4 \u2571       2        2       4 \u2571       2        2      4 \u2571       2        2 \n",
        "\u23a3   \u2572\u2571       a        a        \u2572\u2571       a        a       \u2572\u2571       a        a  \n",
        "\n",
        "__        _________________\u23a4\n",
        "2        \u2571      2        2 \u23a5\n",
        "        \u2571  4.0\u22c5x    4.0\u22c5y  \u23a5\n",
        "\u2500 ,    \u2571   \u2500\u2500\u2500\u2500\u2500\u2500 + \u2500\u2500\u2500\u2500\u2500\u2500 \u23a5\n",
        "    4 \u2571       2        2   \u23a5\n",
        "    \u2572\u2571       a        a    \u23a6"
       ]
      }
     ],
     "prompt_number": 26
    },
    {
     "cell_type": "code",
     "collapsed": false,
     "input": [],
     "language": "python",
     "metadata": {},
     "outputs": []
    }
   ],
   "metadata": {}
  }
 ]
}